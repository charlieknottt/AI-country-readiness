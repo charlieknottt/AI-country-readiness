{
  "cells": [
    {
      "cell_type": "markdown",
      "metadata": {
        "id": "view-in-github",
        "colab_type": "text"
      },
      "source": [
        "<a href=\"https://colab.research.google.com/github/charlieknottt/AI-country-readiness/blob/main/Set_builders_in_Python.ipynb\" target=\"_parent\"><img src=\"https://colab.research.google.com/assets/colab-badge.svg\" alt=\"Open In Colab\"/></a>"
      ]
    },
    {
      "cell_type": "markdown",
      "metadata": {
        "id": "xv_yvZcMA0FE"
      },
      "source": [
        "# Sets\n"
      ]
    },
    {
      "cell_type": "code",
      "execution_count": 2,
      "metadata": {
        "scrolled": true,
        "id": "e5GV5RHDA0FG",
        "outputId": "9d76d2e4-d8e7-41f9-947b-bb0cd920368c",
        "colab": {
          "base_uri": "https://localhost:8080/"
        }
      },
      "outputs": [
        {
          "output_type": "execute_result",
          "data": {
            "text/plain": [
              "{9, 16, 25, 36, 49, 64}"
            ]
          },
          "metadata": {},
          "execution_count": 2
        }
      ],
      "source": [
        "{x**2 for x in range(9) if x >=3 }"
      ]
    },
    {
      "cell_type": "markdown",
      "metadata": {
        "id": "wxwPNx_rA0FH"
      },
      "source": [
        "# Write a set builder that find elements of $\\mathbb{N}$ smaller 50 than not divisible by 2,3 or 5:"
      ]
    },
    {
      "cell_type": "code",
      "execution_count": null,
      "metadata": {
        "id": "vqxcJ0M_A0FH",
        "colab": {
          "base_uri": "https://localhost:8080/"
        },
        "outputId": "8db5d304-8018-42dc-84cb-0f6cebc8e3b5"
      },
      "outputs": [
        {
          "output_type": "execute_result",
          "data": {
            "text/plain": [
              "True"
            ]
          },
          "metadata": {},
          "execution_count": 2
        }
      ],
      "source": [
        "#write a test for divisibility of a single number by 3\n",
        "x = 6\n"
      ]
    },
    {
      "cell_type": "code",
      "execution_count": null,
      "metadata": {
        "id": "O94r4aT9A0FH",
        "colab": {
          "base_uri": "https://localhost:8080/"
        },
        "outputId": "91c8bbb0-436b-400d-8644-31cca8f438b5"
      },
      "outputs": [
        {
          "output_type": "execute_result",
          "data": {
            "text/plain": [
              "True"
            ]
          },
          "metadata": {},
          "execution_count": 4
        }
      ],
      "source": [
        "x = 30\n",
        "#test whether x is not divisible by all of 2, 3, and 5\n",
        "((x % 2) == 0) and ((x % 3) == 0) and ((x % 5) == 0)"
      ]
    },
    {
      "cell_type": "code",
      "execution_count": null,
      "metadata": {
        "id": "cko0inLuA0FH",
        "colab": {
          "base_uri": "https://localhost:8080/"
        },
        "outputId": "56e42181-e8c3-4808-a055-08dfca28a308"
      },
      "outputs": [
        {
          "output_type": "execute_result",
          "data": {
            "text/plain": [
              "{1, 7, 11, 13, 17, 19, 23, 29, 31, 37, 41, 43, 47, 49}"
            ]
          },
          "metadata": {},
          "execution_count": 6
        }
      ],
      "source": [
        "#write the final set builder\n",
        "{x for x in range(50) if not(((x % 2) == 0) or ((x % 3) == 0) or ((x % 5) == 0))}"
      ]
    },
    {
      "cell_type": "code",
      "execution_count": null,
      "metadata": {
        "collapsed": true,
        "id": "wQFornmNA0FI"
      },
      "outputs": [],
      "source": [
        "#write a function returning the subset of the set \"numbers\" which are not divisible by 2, 3, or 5\n",
        "def not_divisible_235(numbers):\n",
        "  return {x for x in numbers if not(((x % 2) == 0) or ((x % 3) == 0) or ((x % 5) == 0))}"
      ]
    },
    {
      "cell_type": "code",
      "execution_count": null,
      "metadata": {
        "id": "PjN0hhZ-A0FI",
        "outputId": "bd2cce3e-51b9-4fdb-c073-216ad3c77452",
        "colab": {
          "base_uri": "https://localhost:8080/"
        }
      },
      "outputs": [
        {
          "output_type": "execute_result",
          "data": {
            "text/plain": [
              "{7, 49, 89, 3457, 43574389}"
            ]
          },
          "metadata": {},
          "execution_count": 9
        }
      ],
      "source": [
        "numbers = {43574389, 3457, 2,7,89, 25, 49}\n",
        "not_divisible_235(numbers)\n",
        "\n"
      ]
    },
    {
      "cell_type": "markdown",
      "metadata": {
        "id": "hfSixHcPA0FI"
      },
      "source": [
        "Set complement"
      ]
    },
    {
      "cell_type": "code",
      "execution_count": null,
      "metadata": {
        "id": "8o2FDw15A0FI"
      },
      "outputs": [],
      "source": [
        "U = range(50)\n",
        "S = {x*2 for x in range(25)}\n",
        "\n",
        "#write a set builder to compute the complement of S\n",
        "S_bar = {x for x in U if x not in S}"
      ]
    },
    {
      "cell_type": "code",
      "execution_count": null,
      "metadata": {
        "id": "EUtepWRZA0FJ",
        "outputId": "3b9e9575-90ad-4c90-966a-353a5f1e743c",
        "colab": {
          "base_uri": "https://localhost:8080/"
        }
      },
      "outputs": [
        {
          "output_type": "stream",
          "name": "stdout",
          "text": [
            "{1, 3, 5, 7, 9, 11, 13, 15, 17, 19, 21, 23, 25, 27, 29, 31, 33, 35, 37, 39, 41, 43, 45, 47, 49}\n"
          ]
        }
      ],
      "source": [
        "print(S_bar)"
      ]
    },
    {
      "cell_type": "markdown",
      "metadata": {
        "id": "dy90MBlVA0FJ"
      },
      "source": [
        "Set product"
      ]
    },
    {
      "cell_type": "code",
      "execution_count": null,
      "metadata": {
        "id": "azYgCQJFA0FJ",
        "colab": {
          "base_uri": "https://localhost:8080/"
        },
        "outputId": "6613b467-6a45-43d1-8a76-80fbe7377c33"
      },
      "outputs": [
        {
          "output_type": "stream",
          "name": "stdout",
          "text": [
            "{(1, 'b'), (4, 'c'), (2, 'a'), (3, 'a'), (1, 'a'), (2, 'c'), (4, 'b'), (3, 'c'), (2, 'b'), (1, 'c'), (3, 'b'), (4, 'a')}\n"
          ]
        }
      ],
      "source": [
        "S = {1, 2, 3, 4}\n",
        "T = {'a', 'b', 'c'}\n",
        "\n",
        "#write code to compute the set product of S x T\n",
        "product = {(x, y) for x in S for y in T}\n",
        "print(product)"
      ]
    },
    {
      "cell_type": "code",
      "execution_count": null,
      "metadata": {
        "id": "uzGCPbJ1A0FJ",
        "colab": {
          "base_uri": "https://localhost:8080/"
        },
        "outputId": "e35617eb-7354-479e-9b45-6f1cab984e18"
      },
      "outputs": [
        {
          "output_type": "execute_result",
          "data": {
            "text/plain": [
              "set()"
            ]
          },
          "metadata": {},
          "execution_count": 12
        }
      ],
      "source": [
        "#filter the product to contain only elements where the first entry of the tuple is even\n",
        "\n",
        "#{(x, y) for x in S for y in T if x %2 == 0}\n",
        "#{(x,y) for x,y in product if x % 2 == 0}\n",
        "\n",
        "{(x, y) for x in S for y in set()}"
      ]
    },
    {
      "cell_type": "markdown",
      "source": [
        "Creating sets of tuples with multiple loops"
      ],
      "metadata": {
        "id": "3un_X1GND5Rs"
      }
    },
    {
      "cell_type": "code",
      "source": [
        "{x+y  for x in range(5) for y in range(7) if x>1}"
      ],
      "metadata": {
        "colab": {
          "base_uri": "https://localhost:8080/"
        },
        "id": "adztZ1RFEARW",
        "outputId": "e2103807-bdd8-40f9-a332-0f7184b0b3a3"
      },
      "execution_count": null,
      "outputs": [
        {
          "output_type": "execute_result",
          "data": {
            "text/plain": [
              "{2, 3, 4, 5, 6, 7, 8, 9, 10}"
            ]
          },
          "metadata": {},
          "execution_count": 14
        }
      ]
    },
    {
      "cell_type": "code",
      "source": [
        "#write a set containing all nonnegative integers x, y >= 0 where x^2 + y is <= 10 and y^2 + x > 5\n",
        "{(x,y) for x in range(11) for y in range(11) if x**2 + y <= 10 and y**2 + x > 5}"
      ],
      "metadata": {
        "id": "7yedZMj5EMrz",
        "colab": {
          "base_uri": "https://localhost:8080/"
        },
        "outputId": "57549131-7018-4b4c-ec7f-06e0cd570025"
      },
      "execution_count": null,
      "outputs": [
        {
          "output_type": "execute_result",
          "data": {
            "text/plain": [
              "{(0, 3),\n",
              " (0, 4),\n",
              " (0, 5),\n",
              " (0, 6),\n",
              " (0, 7),\n",
              " (0, 8),\n",
              " (0, 9),\n",
              " (0, 10),\n",
              " (1, 3),\n",
              " (1, 4),\n",
              " (1, 5),\n",
              " (1, 6),\n",
              " (1, 7),\n",
              " (1, 8),\n",
              " (1, 9),\n",
              " (2, 2),\n",
              " (2, 3),\n",
              " (2, 4),\n",
              " (2, 5),\n",
              " (2, 6)}"
            ]
          },
          "metadata": {},
          "execution_count": 13
        }
      ]
    },
    {
      "cell_type": "markdown",
      "source": [
        "$\\{(x, y) \\in Z_+^2 | x^2 + y \\leq 10, y^2 + x > 5\\}$\n",
        "\n",
        "$Z_+ \\times Z_+$ $R^2$ $R^n$"
      ],
      "metadata": {
        "id": "DN6Zn0lhtgQR"
      }
    },
    {
      "cell_type": "markdown",
      "metadata": {
        "id": "K6fk81mZA0FL"
      },
      "source": [
        "# Exercises\n",
        "\n",
        "1. Consider the ceiling function $f(x) = \\lceil x\\rceil$. For any real number, $f(x)$ rounds $x$ up to the nearest whole number. Write a mathematical description of the type of function $f$.\n",
        "\n",
        "$f: R \\to Z$\n",
        "\n",
        "\n",
        "2. Write python code which implements ceiling as a lambda function.\n",
        "\n",
        "f = lambda x: int(x) + 1 if x != int(x) else int(x)\n",
        "\n",
        "3. Consider a function $g$ that takes as input any function $f$ and returns a new function which applies ceiling to $f$. Write a mathematical description of the type of function $g$.\n",
        "\n",
        "$(R \\to R) \\to (R \\to Z)$"
      ]
    },
    {
      "cell_type": "code",
      "execution_count": null,
      "metadata": {
        "id": "1aaSt0PxA0FL"
      },
      "outputs": [],
      "source": []
    }
  ],
  "metadata": {
    "celltoolbar": "Slideshow",
    "kernelspec": {
      "display_name": "Python 3 (ipykernel)",
      "language": "python",
      "name": "python3"
    },
    "language_info": {
      "codemirror_mode": {
        "name": "ipython",
        "version": 3
      },
      "file_extension": ".py",
      "mimetype": "text/x-python",
      "name": "python",
      "nbconvert_exporter": "python",
      "pygments_lexer": "ipython3",
      "version": "3.10.9"
    },
    "rise": {
      "scroll": true
    },
    "colab": {
      "provenance": [],
      "include_colab_link": true
    }
  },
  "nbformat": 4,
  "nbformat_minor": 0
}